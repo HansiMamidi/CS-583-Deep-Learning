{
 "cells": [
  {
   "cell_type": "raw",
   "metadata": {},
   "source": [
    "# Assignment 2: Build a CNN for image recognition.\n",
    "\n",
    "## Due Date:  March 31, 11:59PM\n",
    "\n",
    "### Name: [Sri Naga Hansi Mamidi]\n"
   ]
  },
  {
   "cell_type": "markdown",
   "metadata": {},
   "source": [
    "## Introduction:\n",
    "\n",
    "1. In this assignment, you will build Convolutional Neural Network to classify CIFAR-10 Images.\n",
    "2. You can directly load dataset from many deep learning packages.\n",
    "3. You can use any deep learning packages such as pytorch, keras or tensorflow for this assignment."
   ]
  },
  {
   "cell_type": "markdown",
   "metadata": {},
   "source": [
    "## Requirements:\n",
    "\n",
    "1. You need to load cifar 10 data and split the entire training dataset into training and validation.\n",
    "2. You will implement a CNN model to classify cifar 10 images with provided structure.\n",
    "3. You need to plot the training and validation accuracy or loss obtained from above step.\n",
    "4. Then you can use tuned hyper-parameters to train using the entire training dataset.\n",
    "5. You should report the testing accuracy using the model with complete data.\n",
    "6. You may try to change the structure (e.g, add BN layer or dropout layer,...) and analyze your findings.\n",
    "\n",
    "## Google Colab\n",
    "\n",
    "- If you do not have GPU, the training of a CNN can be slow. Google Colab is a good option."
   ]
  },
  {
   "cell_type": "markdown",
   "metadata": {},
   "source": [
    "## Batch Normalization (BN)"
   ]
  },
  {
   "cell_type": "markdown",
   "metadata": {},
   "source": [
    "### Background:"
   ]
  },
  {
   "cell_type": "markdown",
   "metadata": {},
   "source": [
    "- Batch Normalization is a technique to speed up training and help make the model more stable.\n",
    "- In simple words, batch normalization is just another network layer that gets inserted between a hidden layer and the next hidden layer. Its job is to take the outputs from the first hidden layer and normalize them before passing them on as the input of the next hidden layer.\n",
    "\n",
    "- For more detailed information, you may refer to the original paper: https://arxiv.org/pdf/1502.03167.pdf."
   ]
  },
  {
   "cell_type": "markdown",
   "metadata": {},
   "source": [
    "### BN Algorithm:"
   ]
  },
  {
   "cell_type": "markdown",
   "metadata": {},
   "source": [
    "- Input: Values of $x$ over a mini-batch: $\\mathbf{B}$ = $\\{x_1,..., x_m\\};$\n",
    "- Output: $\\{y_i = BN_{\\gamma,\\beta}(x_i)\\}$, $\\gamma, \\beta$ are learnable parameters\n",
    "\n",
    "Normalization of the Input:\n",
    "$$\\mu_{\\mathbf{B}} = \\frac{1}{m}\\sum_{i=1}^m x_i$$\n",
    "$$\\sigma_{\\mathbf{B}}^2 = \\frac{1}{m}\\sum_{i=1}^m (x_i - \\mu_{\\mathbf{B}})^2$$\n",
    "$$\\hat{x_i} = \\frac{x_i - \\mu_{\\mathbf{B}}}{\\sqrt{\\sigma_{\\mathbf{B}}}^2 + \\epsilon}$$\n",
    "Re-scaling and Offsetting:\n",
    "$$y_i = \\gamma \\hat{x_i} + \\beta = BN_{\\gamma,\\beta}(x_i)$$\n"
   ]
  },
  {
   "cell_type": "markdown",
   "metadata": {},
   "source": [
    "### Advantages of BN:\n",
    "1. Improves gradient flow through the network.\n",
    "2. Allows use of saturating nonlinearities and higher learning rates.\n",
    "3. Makes weights easier to initialize.\n",
    "4. Act as a form of regularization and may reduce the need for dropout."
   ]
  },
  {
   "cell_type": "markdown",
   "metadata": {},
   "source": [
    "### Implementation:"
   ]
  },
  {
   "cell_type": "markdown",
   "metadata": {},
   "source": [
    "- The batch normalization layer has already been implemented in many packages. You may simply call the function to build the layer. For example: torch.nn.BatchNorm2d() using pytroch package, keras.layers.BatchNormalization() using keras package.\n",
    "- The location of BN layer: Please make sure ```BatchNormalization``` is between a ```Conv```/```Dense``` layer and an ```activation``` layer."
   ]
  },
  {
   "cell_type": "markdown",
   "metadata": {},
   "source": [
    "## 1. Data preparation"
   ]
  },
  {
   "cell_type": "markdown",
   "metadata": {},
   "source": [
    "### 1.1. Load data\n"
   ]
  },
  {
   "cell_type": "code",
   "execution_count": 1,
   "metadata": {},
   "outputs": [
    {
     "name": "stdout",
     "output_type": "stream",
     "text": [
      "shape of x_train: (50000, 32, 32, 3)\n",
      "shape of y_train: (50000, 1)\n",
      "shape of x_test: (10000, 32, 32, 3)\n",
      "shape of y_test: (10000, 1)\n",
      "number of classes: 10\n"
     ]
    }
   ],
   "source": [
    "# Load Cifar-10 Data\n",
    "# This is just an example, you may load dataset from other packages.\n",
    "import keras\n",
    "import numpy as np\n",
    "\n",
    "from keras.datasets import cifar10\n",
    "\n",
    "### If you can not load keras dataset, un-comment these two lines.\n",
    "#import ssl\n",
    "#ssl._create_default_https_context = ssl._create_unverified_context\n",
    "\n",
    "(x_train, y_train), (x_test, y_test) = cifar10.load_data()\n",
    "\n",
    "print('shape of x_train: ' + str(x_train.shape))\n",
    "print('shape of y_train: ' + str(y_train.shape))\n",
    "print('shape of x_test: ' + str(x_test.shape))\n",
    "print('shape of y_test: ' + str(y_test.shape))\n",
    "print('number of classes: ' + str(np.max(y_train) - np.min(y_train) + 1))"
   ]
  },
  {
   "cell_type": "code",
   "execution_count": 2,
   "metadata": {},
   "outputs": [
    {
     "name": "stdout",
     "output_type": "stream",
     "text": [
      "Shape of x_train_vec is(50000, 32, 32, 3)\n"
     ]
    }
   ],
   "source": [
    "x_train_vec = x_train.reshape((50000,32,32,3))\n",
    "x_test_vec = x_test.reshape((10000,32,32,3))\n",
    "\n",
    "print('Shape of x_train_vec is'+ str(x_train_vec.shape))"
   ]
  },
  {
   "cell_type": "markdown",
   "metadata": {},
   "source": [
    "### 1.2. One-hot encode the labels (5 points)\n",
    "\n",
    "In the input, a label is a scalar in $\\{0, 1, \\cdots , 9\\}$. One-hot encode transform such a scalar to a $10$-dim vector. E.g., a scalar ```y_train[j]=3``` is transformed to the vector ```y_train_vec[j]=[0, 0, 0, 1, 0, 0, 0, 0, 0, 0]```.\n",
    "\n",
    "1. Implement a function ```to_one_hot``` that transforms an $n\\times 1$ array to a $n\\times 10$ matrix.\n",
    "\n",
    "2. Apply the function to ```y_train``` and ```y_test```."
   ]
  },
  {
   "cell_type": "code",
   "execution_count": 3,
   "metadata": {},
   "outputs": [
    {
     "name": "stdout",
     "output_type": "stream",
     "text": [
      "Shape of y_train_vec: (50000, 10)\n",
      "Shape of y_test_vec: (10000, 10)\n",
      "[6]\n",
      "[0. 0. 0. 0. 0. 0. 1. 0. 0. 0.]\n"
     ]
    }
   ],
   "source": [
    "def to_one_hot(y, num_class=10):\n",
    "    results = np.zeros((len(y),num_class))\n",
    "    for i, label in enumerate(y):\n",
    "        results[i, label] = 1\n",
    "    return results\n",
    "\n",
    "y_train_vec = to_one_hot(y_train)\n",
    "y_test_vec = to_one_hot(y_test)\n",
    "\n",
    "print('Shape of y_train_vec: ' + str(y_train_vec.shape))\n",
    "print('Shape of y_test_vec: ' + str(y_test_vec.shape))\n",
    "\n",
    "print(y_train[0])\n",
    "print(y_train_vec[0])"
   ]
  },
  {
   "cell_type": "markdown",
   "metadata": {},
   "source": [
    "#### Remark: the outputs should be\n",
    "* Shape of y_train_vec: (50000, 10)\n",
    "* Shape of y_test_vec: (10000, 10)\n",
    "* [6]\n",
    "* [0. 0. 0. 0. 0. 0. 1. 0. 0. 0.]"
   ]
  },
  {
   "cell_type": "markdown",
   "metadata": {},
   "source": [
    "### 1.3. Randomly partition the training set to training and validation sets (5 points)\n",
    "\n",
    "Randomly partition the 50K training samples to 2 sets: \n",
    "* a training set containing 40K samples: x_tr, y_tr\n",
    "* a validation set containing 10K samples: x_val, y_val\n"
   ]
  },
  {
   "cell_type": "code",
   "execution_count": 4,
   "metadata": {},
   "outputs": [
    {
     "name": "stdout",
     "output_type": "stream",
     "text": [
      "[27951 43461 22632 ... 30316 37486 29253] (50000, 32, 32, 3)\n",
      "Shape of x_tr: (40000, 32, 32, 3)\n",
      "Shape of y_tr: (40000, 10)\n",
      "Shape of x_val: (10000, 32, 32, 3)\n",
      "Shape of y_val: (10000, 10)\n"
     ]
    }
   ],
   "source": [
    "rand_indices = np.random.permutation(50000)\n",
    "train_indices = rand_indices[0:40000]\n",
    "valid_indices = rand_indices[40000:50000]\n",
    "\n",
    "print(valid_indices,x_train_vec.shape)\n",
    "x_val = x_train_vec[valid_indices, :, :, :]\n",
    "y_val = y_train_vec[valid_indices, :]\n",
    "\n",
    "x_tr = x_train_vec[train_indices, :, :, :]\n",
    "y_tr = y_train_vec[train_indices, :]\n",
    "\n",
    "print('Shape of x_tr: ' + str(x_tr.shape))\n",
    "print('Shape of y_tr: ' + str(y_tr.shape))\n",
    "print('Shape of x_val: ' + str(x_val.shape))\n",
    "print('Shape of y_val: ' + str(y_val.shape))"
   ]
  },
  {
   "cell_type": "markdown",
   "metadata": {},
   "source": [
    "## 2. Build a CNN and tune its hyper-parameters (50 points)\n",
    "\n",
    "- Build a convolutional neural network model using the below structure:\n",
    "\n",
    "- It should have a structure of: Conv - ReLU - Max Pool - ConV - ReLU - Max Pool - Dense - ReLU - Dense - Softmax\n",
    "\n",
    "- In the graph 3@32x32 means the dimension of input image, 32@30x30 means it has 32 filters and the dimension now becomes 30x30 after the convolution.\n",
    "- All convolutional layers (Conv) should have stride = 1 and no padding.\n",
    "- Max Pooling has a pool size of 2 by 2.\n",
    "\n",
    "\n"
   ]
  },
  {
   "cell_type": "markdown",
   "metadata": {},
   "source": [
    "<img src=\"network.PNG\"/>"
   ]
  },
  {
   "cell_type": "markdown",
   "metadata": {},
   "source": [
    "- You may use the validation data to tune the hyper-parameters (e.g., learning rate, and optimization algorithm)\n",
    "- Do NOT use test data for hyper-parameter tuning!!!\n",
    "- Try to achieve a validation accuracy as high as possible."
   ]
  },
  {
   "cell_type": "code",
   "execution_count": 5,
   "metadata": {},
   "outputs": [
    {
     "name": "stdout",
     "output_type": "stream",
     "text": [
      "Model: \"sequential\"\n",
      "_________________________________________________________________\n",
      " Layer (type)                Output Shape              Param #   \n",
      "=================================================================\n",
      " conv2d (Conv2D)             (None, 30, 30, 32)        896       \n",
      "                                                                 \n",
      " max_pooling2d (MaxPooling2D  (None, 15, 15, 32)       0         \n",
      " )                                                               \n",
      "                                                                 \n",
      " conv2d_1 (Conv2D)           (None, 12, 12, 64)        32832     \n",
      "                                                                 \n",
      " max_pooling2d_1 (MaxPooling  (None, 6, 6, 64)         0         \n",
      " 2D)                                                             \n",
      "                                                                 \n",
      " flatten (Flatten)           (None, 2304)              0         \n",
      "                                                                 \n",
      " dense (Dense)               (None, 256)               590080    \n",
      "                                                                 \n",
      " dense_1 (Dense)             (None, 10)                2570      \n",
      "                                                                 \n",
      "=================================================================\n",
      "Total params: 626,378\n",
      "Trainable params: 626,378\n",
      "Non-trainable params: 0\n",
      "_________________________________________________________________\n"
     ]
    }
   ],
   "source": [
    "# Build the model\n",
    "from keras import models\n",
    "from keras import layers\n",
    "\n",
    "model = models.Sequential()\n",
    "model.add(layers.Conv2D(32, (3,3), activation='relu', input_shape=(32,32,3)))\n",
    "model.add(layers.MaxPooling2D((2,2)))\n",
    "\n",
    "model.add(layers.Conv2D(64, (4,4), activation='relu'))\n",
    "model.add(layers.MaxPooling2D((2,2)))\n",
    "\n",
    "model.add(layers.Flatten())\n",
    "model.add(layers.Dense(256, activation='relu'))\n",
    "model.add(layers.Dense(10, activation='softmax'))\n",
    "\n",
    "model.summary()"
   ]
  },
  {
   "cell_type": "code",
   "execution_count": 6,
   "metadata": {},
   "outputs": [],
   "source": [
    "# Define model optimizer and loss function\n",
    "from keras import optimizers\n",
    "model.compile(optimizers.RMSprop(learning_rate=0.0001), loss='categorical_crossentropy', metrics=['accuracy'])"
   ]
  },
  {
   "cell_type": "code",
   "execution_count": 7,
   "metadata": {},
   "outputs": [
    {
     "name": "stdout",
     "output_type": "stream",
     "text": [
      "Epoch 1/50\n",
      "391/391 [==============================] - 15s 35ms/step - loss: 4.2256 - accuracy: 0.2855 - val_loss: 1.7175 - val_accuracy: 0.4103\n",
      "Epoch 2/50\n",
      "391/391 [==============================] - 19s 48ms/step - loss: 1.5493 - accuracy: 0.4607 - val_loss: 1.3521 - val_accuracy: 0.5306\n",
      "Epoch 3/50\n",
      "391/391 [==============================] - 16s 41ms/step - loss: 1.2942 - accuracy: 0.5488 - val_loss: 1.1592 - val_accuracy: 0.5980\n",
      "Epoch 4/50\n",
      "391/391 [==============================] - 16s 40ms/step - loss: 1.1371 - accuracy: 0.6065 - val_loss: 0.9880 - val_accuracy: 0.6589\n",
      "Epoch 5/50\n",
      "391/391 [==============================] - 16s 40ms/step - loss: 1.0144 - accuracy: 0.6486 - val_loss: 0.8874 - val_accuracy: 0.6972\n",
      "Epoch 6/50\n",
      "391/391 [==============================] - 17s 44ms/step - loss: 0.9096 - accuracy: 0.6867 - val_loss: 0.8544 - val_accuracy: 0.7055\n",
      "Epoch 7/50\n",
      "391/391 [==============================] - 16s 41ms/step - loss: 0.8189 - accuracy: 0.7200 - val_loss: 0.6935 - val_accuracy: 0.7645\n",
      "Epoch 8/50\n",
      "391/391 [==============================] - 16s 42ms/step - loss: 0.7322 - accuracy: 0.7502 - val_loss: 0.7460 - val_accuracy: 0.7446\n",
      "Epoch 9/50\n",
      "391/391 [==============================] - 17s 43ms/step - loss: 0.6570 - accuracy: 0.7786 - val_loss: 0.5914 - val_accuracy: 0.8003\n",
      "Epoch 10/50\n",
      "391/391 [==============================] - 18s 47ms/step - loss: 0.5870 - accuracy: 0.8026 - val_loss: 0.5440 - val_accuracy: 0.8165\n",
      "Epoch 11/50\n",
      "391/391 [==============================] - 16s 42ms/step - loss: 0.5224 - accuracy: 0.8246 - val_loss: 0.4631 - val_accuracy: 0.8461\n",
      "Epoch 12/50\n",
      "391/391 [==============================] - 16s 40ms/step - loss: 0.4628 - accuracy: 0.8475 - val_loss: 0.3714 - val_accuracy: 0.8898\n",
      "Epoch 13/50\n",
      "391/391 [==============================] - 17s 45ms/step - loss: 0.4069 - accuracy: 0.8668 - val_loss: 0.2954 - val_accuracy: 0.9137\n",
      "Epoch 14/50\n",
      "391/391 [==============================] - 17s 43ms/step - loss: 0.3545 - accuracy: 0.8874 - val_loss: 0.3035 - val_accuracy: 0.9098\n",
      "Epoch 15/50\n",
      "391/391 [==============================] - 17s 42ms/step - loss: 0.3106 - accuracy: 0.9027 - val_loss: 0.2332 - val_accuracy: 0.9338\n",
      "Epoch 16/50\n",
      "391/391 [==============================] - 16s 42ms/step - loss: 0.2668 - accuracy: 0.9177 - val_loss: 0.2178 - val_accuracy: 0.9365\n",
      "Epoch 17/50\n",
      "391/391 [==============================] - 16s 41ms/step - loss: 0.2287 - accuracy: 0.9325 - val_loss: 0.1681 - val_accuracy: 0.9583\n",
      "Epoch 18/50\n",
      "391/391 [==============================] - 15s 39ms/step - loss: 0.1945 - accuracy: 0.9434 - val_loss: 0.1534 - val_accuracy: 0.9590\n",
      "Epoch 19/50\n",
      "391/391 [==============================] - 15s 38ms/step - loss: 0.1644 - accuracy: 0.9540 - val_loss: 0.1094 - val_accuracy: 0.9774\n",
      "Epoch 20/50\n",
      "391/391 [==============================] - 18s 45ms/step - loss: 0.1396 - accuracy: 0.9616 - val_loss: 0.0836 - val_accuracy: 0.9851\n",
      "Epoch 21/50\n",
      "391/391 [==============================] - 15s 40ms/step - loss: 0.1159 - accuracy: 0.9691 - val_loss: 0.0726 - val_accuracy: 0.9869\n",
      "Epoch 22/50\n",
      "391/391 [==============================] - 17s 43ms/step - loss: 0.0974 - accuracy: 0.9753 - val_loss: 0.0827 - val_accuracy: 0.9812\n",
      "Epoch 23/50\n",
      "391/391 [==============================] - 15s 39ms/step - loss: 0.0812 - accuracy: 0.9799 - val_loss: 0.0476 - val_accuracy: 0.9937\n",
      "Epoch 24/50\n",
      "391/391 [==============================] - 17s 45ms/step - loss: 0.0688 - accuracy: 0.9842 - val_loss: 0.0497 - val_accuracy: 0.9909\n",
      "Epoch 25/50\n",
      "391/391 [==============================] - 15s 39ms/step - loss: 0.0591 - accuracy: 0.9860 - val_loss: 0.0409 - val_accuracy: 0.9932\n",
      "Epoch 26/50\n",
      "391/391 [==============================] - 15s 39ms/step - loss: 0.0477 - accuracy: 0.9907 - val_loss: 0.0481 - val_accuracy: 0.9896\n",
      "Epoch 27/50\n",
      "391/391 [==============================] - 17s 44ms/step - loss: 0.0407 - accuracy: 0.9918 - val_loss: 0.0209 - val_accuracy: 0.9980\n",
      "Epoch 28/50\n",
      "391/391 [==============================] - 14s 37ms/step - loss: 0.0366 - accuracy: 0.9925 - val_loss: 0.0253 - val_accuracy: 0.9960\n",
      "Epoch 29/50\n",
      "391/391 [==============================] - 17s 44ms/step - loss: 0.0302 - accuracy: 0.9937 - val_loss: 0.0266 - val_accuracy: 0.9936\n",
      "Epoch 30/50\n",
      "391/391 [==============================] - 16s 41ms/step - loss: 0.0307 - accuracy: 0.9931 - val_loss: 0.0123 - val_accuracy: 0.9993\n",
      "Epoch 31/50\n",
      "391/391 [==============================] - 16s 42ms/step - loss: 0.0239 - accuracy: 0.9953 - val_loss: 0.0370 - val_accuracy: 0.9907\n",
      "Epoch 32/50\n",
      "391/391 [==============================] - 16s 41ms/step - loss: 0.0223 - accuracy: 0.9952 - val_loss: 0.0072 - val_accuracy: 0.9997\n",
      "Epoch 33/50\n",
      "391/391 [==============================] - 18s 45ms/step - loss: 0.0203 - accuracy: 0.9955 - val_loss: 0.0098 - val_accuracy: 0.9991\n",
      "Epoch 34/50\n",
      "391/391 [==============================] - 19s 48ms/step - loss: 0.0180 - accuracy: 0.9962 - val_loss: 0.0067 - val_accuracy: 0.9995\n",
      "Epoch 35/50\n",
      "391/391 [==============================] - 17s 44ms/step - loss: 0.0171 - accuracy: 0.9960 - val_loss: 0.0258 - val_accuracy: 0.9926\n",
      "Epoch 36/50\n",
      "391/391 [==============================] - 16s 41ms/step - loss: 0.0156 - accuracy: 0.9964 - val_loss: 0.0094 - val_accuracy: 0.9986\n",
      "Epoch 37/50\n",
      "391/391 [==============================] - 16s 40ms/step - loss: 0.0132 - accuracy: 0.9971 - val_loss: 0.1163 - val_accuracy: 0.9594\n",
      "Epoch 38/50\n",
      "391/391 [==============================] - 15s 38ms/step - loss: 0.0142 - accuracy: 0.9965 - val_loss: 0.0041 - val_accuracy: 0.9999\n",
      "Epoch 39/50\n",
      "391/391 [==============================] - 16s 40ms/step - loss: 0.0127 - accuracy: 0.9971 - val_loss: 0.0033 - val_accuracy: 0.9998\n",
      "Epoch 40/50\n",
      "391/391 [==============================] - 16s 41ms/step - loss: 0.0140 - accuracy: 0.9964 - val_loss: 0.0544 - val_accuracy: 0.9817\n",
      "Epoch 41/50\n",
      "391/391 [==============================] - 18s 46ms/step - loss: 0.0124 - accuracy: 0.9966 - val_loss: 0.0017 - val_accuracy: 1.0000\n",
      "Epoch 42/50\n",
      "391/391 [==============================] - 15s 38ms/step - loss: 0.0095 - accuracy: 0.9974 - val_loss: 0.0448 - val_accuracy: 0.9830\n",
      "Epoch 43/50\n",
      "391/391 [==============================] - 16s 42ms/step - loss: 0.0126 - accuracy: 0.9967 - val_loss: 0.0037 - val_accuracy: 0.9996\n",
      "Epoch 44/50\n",
      "391/391 [==============================] - 15s 38ms/step - loss: 0.0109 - accuracy: 0.9971 - val_loss: 0.0018 - val_accuracy: 0.9999\n",
      "Epoch 45/50\n",
      "391/391 [==============================] - 15s 39ms/step - loss: 0.0106 - accuracy: 0.9972 - val_loss: 0.0160 - val_accuracy: 0.9960\n",
      "Epoch 46/50\n",
      "391/391 [==============================] - 15s 39ms/step - loss: 0.0094 - accuracy: 0.9976 - val_loss: 0.0029 - val_accuracy: 0.9996\n",
      "Epoch 47/50\n",
      "391/391 [==============================] - 15s 40ms/step - loss: 0.0094 - accuracy: 0.9976 - val_loss: 0.0936 - val_accuracy: 0.9670\n",
      "Epoch 48/50\n",
      "391/391 [==============================] - 14s 37ms/step - loss: 0.0101 - accuracy: 0.9971 - val_loss: 0.0622 - val_accuracy: 0.9802\n",
      "Epoch 49/50\n",
      "391/391 [==============================] - 14s 36ms/step - loss: 0.0079 - accuracy: 0.9981 - val_loss: 0.0031 - val_accuracy: 0.9997\n",
      "Epoch 50/50\n",
      "391/391 [==============================] - 14s 35ms/step - loss: 0.0094 - accuracy: 0.9974 - val_loss: 0.0098 - val_accuracy: 0.9973\n"
     ]
    }
   ],
   "source": [
    "# Train the model and store model parameters/loss values\n",
    "history = model.fit(x_train_vec, y_train_vec, batch_size=128, epochs=50, validation_data=(x_val, y_val))"
   ]
  },
  {
   "cell_type": "markdown",
   "metadata": {},
   "source": [
    "## 3. Plot the training and validation loss curve versus epochs. (5 points)"
   ]
  },
  {
   "cell_type": "code",
   "execution_count": 8,
   "metadata": {},
   "outputs": [
    {
     "data": {
      "image/png": "[encoded data removed]",
      "text/plain": [
       "<Figure size 432x288 with 1 Axes>"
      ]
     },
     "metadata": {
      "needs_background": "light"
     },
     "output_type": "display_data"
    }
   ],
   "source": [
    "# Plot the loss curve\n",
    "import matplotlib.pyplot as plt\n",
    "%matplotlib inline\n",
    "\n",
    "epochs = range(50)\n",
    "train_loss = history.history['loss']\n",
    "valid_loss = history.history['val_loss']\n",
    "plt.plot(epochs, train_loss, 'bo', label='Training Loss')\n",
    "plt.plot(epochs, valid_loss, 'r', label='Validation Loss')\n",
    "plt.xlabel('Epochs')\n",
    "plt.ylabel('Loss')\n",
    "plt.legend()\n",
    "plt.show()"
   ]
  },
  {
   "cell_type": "markdown",
   "metadata": {},
   "source": [
    "## 4. Train (again) and evaluate the model (5 points)\n",
    "\n",
    "- To this end, you have found the \"best\" hyper-parameters. \n",
    "- Now, fix the hyper-parameters and train the network on the entire training set (all the 50K training samples)\n",
    "- Evaluate your model on the test set."
   ]
  },
  {
   "cell_type": "markdown",
   "metadata": {},
   "source": [
    "### Train the model on the entire training set\n",
    "\n",
    "Why? Previously, you used 40K samples for training; you wasted 10K samples for the sake of hyper-parameter tuning. Now you already know the hyper-parameters, so why not using all the 50K samples for training?"
   ]
  },
  {
   "cell_type": "code",
   "execution_count": 9,
   "metadata": {},
   "outputs": [],
   "source": [
    "#<Compile your model again (using the same hyper-parameters you tuned above)>\n",
    "model.compile(optimizers.RMSprop(learning_rate=0.0001), loss='categorical_crossentropy', metrics=['accuracy'])"
   ]
  },
  {
   "cell_type": "code",
   "execution_count": 10,
   "metadata": {},
   "outputs": [
    {
     "name": "stdout",
     "output_type": "stream",
     "text": [
      "Epoch 1/50\n",
      "391/391 [==============================] - 16s 37ms/step - loss: 0.0096 - accuracy: 0.9971 - val_loss: 0.0481 - val_accuracy: 0.9840\n",
      "Epoch 2/50\n",
      "391/391 [==============================] - 13s 34ms/step - loss: 0.0083 - accuracy: 0.9979 - val_loss: 0.0023 - val_accuracy: 0.9999\n",
      "Epoch 3/50\n",
      "391/391 [==============================] - 13s 34ms/step - loss: 0.0088 - accuracy: 0.9974 - val_loss: 0.0032 - val_accuracy: 0.9996\n",
      "Epoch 4/50\n",
      "391/391 [==============================] - 14s 37ms/step - loss: 0.0066 - accuracy: 0.9983 - val_loss: 0.0047 - val_accuracy: 0.9987\n",
      "Epoch 5/50\n",
      "391/391 [==============================] - 18s 46ms/step - loss: 0.0078 - accuracy: 0.9976 - val_loss: 0.0022 - val_accuracy: 0.9995\n",
      "Epoch 6/50\n",
      "391/391 [==============================] - 17s 44ms/step - loss: 0.0072 - accuracy: 0.9979 - val_loss: 0.0257 - val_accuracy: 0.9919\n",
      "Epoch 7/50\n",
      "391/391 [==============================] - 17s 43ms/step - loss: 0.0069 - accuracy: 0.9981 - val_loss: 0.0174 - val_accuracy: 0.9942\n",
      "Epoch 8/50\n",
      "391/391 [==============================] - 18s 45ms/step - loss: 0.0056 - accuracy: 0.9984 - val_loss: 0.0040 - val_accuracy: 0.9987\n",
      "Epoch 9/50\n",
      "391/391 [==============================] - 16s 41ms/step - loss: 0.0063 - accuracy: 0.9982 - val_loss: 0.0032 - val_accuracy: 0.9993\n",
      "Epoch 10/50\n",
      "391/391 [==============================] - 15s 39ms/step - loss: 0.0067 - accuracy: 0.9979 - val_loss: 0.0013 - val_accuracy: 0.9998\n",
      "Epoch 11/50\n",
      "391/391 [==============================] - 17s 43ms/step - loss: 0.0069 - accuracy: 0.9982 - val_loss: 0.0013 - val_accuracy: 0.9998\n",
      "Epoch 12/50\n",
      "391/391 [==============================] - 17s 44ms/step - loss: 0.0072 - accuracy: 0.9979 - val_loss: 0.0031 - val_accuracy: 0.9990\n",
      "Epoch 13/50\n",
      "391/391 [==============================] - 19s 48ms/step - loss: 0.0062 - accuracy: 0.9982 - val_loss: 0.0039 - val_accuracy: 0.9991\n",
      "Epoch 14/50\n",
      "391/391 [==============================] - 18s 45ms/step - loss: 0.0079 - accuracy: 0.9975 - val_loss: 0.0022 - val_accuracy: 0.9995\n",
      "Epoch 15/50\n",
      "391/391 [==============================] - 18s 46ms/step - loss: 0.0064 - accuracy: 0.9983 - val_loss: 0.0446 - val_accuracy: 0.9856\n",
      "Epoch 16/50\n",
      "391/391 [==============================] - 16s 40ms/step - loss: 0.0071 - accuracy: 0.9978 - val_loss: 0.0055 - val_accuracy: 0.9984\n",
      "Epoch 17/50\n",
      "391/391 [==============================] - 16s 41ms/step - loss: 0.0059 - accuracy: 0.9983 - val_loss: 0.0105 - val_accuracy: 0.9966\n",
      "Epoch 18/50\n",
      "391/391 [==============================] - 17s 44ms/step - loss: 0.0059 - accuracy: 0.9984 - val_loss: 0.0014 - val_accuracy: 0.9997\n",
      "Epoch 19/50\n",
      "391/391 [==============================] - 18s 46ms/step - loss: 0.0057 - accuracy: 0.9982 - val_loss: 0.0089 - val_accuracy: 0.9972\n",
      "Epoch 20/50\n",
      "391/391 [==============================] - 17s 42ms/step - loss: 0.0073 - accuracy: 0.9978 - val_loss: 0.0087 - val_accuracy: 0.9979\n",
      "Epoch 21/50\n",
      "391/391 [==============================] - 16s 40ms/step - loss: 0.0061 - accuracy: 0.9983 - val_loss: 0.0040 - val_accuracy: 0.9987\n",
      "Epoch 22/50\n",
      "391/391 [==============================] - 19s 48ms/step - loss: 0.0060 - accuracy: 0.9981 - val_loss: 0.0023 - val_accuracy: 0.9996\n",
      "Epoch 23/50\n",
      "391/391 [==============================] - 16s 41ms/step - loss: 0.0059 - accuracy: 0.9982 - val_loss: 0.0067 - val_accuracy: 0.9981\n",
      "Epoch 24/50\n",
      "391/391 [==============================] - 16s 41ms/step - loss: 0.0056 - accuracy: 0.9983 - val_loss: 0.2550 - val_accuracy: 0.9327\n",
      "Epoch 25/50\n",
      "391/391 [==============================] - 18s 45ms/step - loss: 0.0068 - accuracy: 0.9981 - val_loss: 0.0136 - val_accuracy: 0.9957\n",
      "Epoch 26/50\n",
      "391/391 [==============================] - 17s 45ms/step - loss: 0.0064 - accuracy: 0.9982 - val_loss: 0.0099 - val_accuracy: 0.9966\n",
      "Epoch 27/50\n",
      "391/391 [==============================] - 16s 41ms/step - loss: 0.0064 - accuracy: 0.9981 - val_loss: 0.0127 - val_accuracy: 0.9959\n",
      "Epoch 28/50\n",
      "391/391 [==============================] - 15s 39ms/step - loss: 0.0055 - accuracy: 0.9987 - val_loss: 0.0118 - val_accuracy: 0.9955\n",
      "Epoch 29/50\n",
      "391/391 [==============================] - 16s 40ms/step - loss: 0.0069 - accuracy: 0.9981 - val_loss: 6.1617e-04 - val_accuracy: 0.9999\n",
      "Epoch 30/50\n",
      "391/391 [==============================] - 18s 45ms/step - loss: 0.0059 - accuracy: 0.9984 - val_loss: 0.0079 - val_accuracy: 0.9979\n",
      "Epoch 31/50\n",
      "391/391 [==============================] - 17s 42ms/step - loss: 0.0062 - accuracy: 0.9981 - val_loss: 0.0012 - val_accuracy: 0.9998\n",
      "Epoch 32/50\n",
      "391/391 [==============================] - 17s 42ms/step - loss: 0.0064 - accuracy: 0.9980 - val_loss: 0.0080 - val_accuracy: 0.9974\n",
      "Epoch 33/50\n",
      "391/391 [==============================] - 17s 42ms/step - loss: 0.0066 - accuracy: 0.9978 - val_loss: 0.0069 - val_accuracy: 0.9978\n",
      "Epoch 34/50\n",
      "391/391 [==============================] - 17s 45ms/step - loss: 0.0072 - accuracy: 0.9978 - val_loss: 0.0035 - val_accuracy: 0.9988\n",
      "Epoch 35/50\n",
      "391/391 [==============================] - 17s 43ms/step - loss: 0.0061 - accuracy: 0.9981 - val_loss: 0.0012 - val_accuracy: 0.9998\n",
      "Epoch 36/50\n",
      "391/391 [==============================] - 16s 42ms/step - loss: 0.0065 - accuracy: 0.9978 - val_loss: 0.0025 - val_accuracy: 0.9993\n",
      "Epoch 37/50\n",
      "391/391 [==============================] - 17s 43ms/step - loss: 0.0069 - accuracy: 0.9979 - val_loss: 0.0014 - val_accuracy: 0.9996\n",
      "Epoch 38/50\n",
      "391/391 [==============================] - 16s 40ms/step - loss: 0.0063 - accuracy: 0.9980 - val_loss: 0.0047 - val_accuracy: 0.9986\n",
      "Epoch 39/50\n",
      "391/391 [==============================] - 15s 38ms/step - loss: 0.0056 - accuracy: 0.9986 - val_loss: 6.3263e-04 - val_accuracy: 0.9999\n",
      "Epoch 40/50\n",
      "391/391 [==============================] - 18s 47ms/step - loss: 0.0058 - accuracy: 0.9984 - val_loss: 0.0016 - val_accuracy: 0.9996\n",
      "Epoch 41/50\n",
      "391/391 [==============================] - 18s 47ms/step - loss: 0.0061 - accuracy: 0.9980 - val_loss: 0.0018 - val_accuracy: 0.9996\n",
      "Epoch 42/50\n",
      "391/391 [==============================] - 18s 46ms/step - loss: 0.0051 - accuracy: 0.9983 - val_loss: 0.0091 - val_accuracy: 0.9969\n",
      "Epoch 43/50\n",
      "391/391 [==============================] - 17s 43ms/step - loss: 0.0056 - accuracy: 0.9984 - val_loss: 0.0050 - val_accuracy: 0.9983\n",
      "Epoch 44/50\n",
      "391/391 [==============================] - 18s 45ms/step - loss: 0.0058 - accuracy: 0.9982 - val_loss: 0.0025 - val_accuracy: 0.9992\n",
      "Epoch 45/50\n",
      "391/391 [==============================] - 16s 40ms/step - loss: 0.0068 - accuracy: 0.9977 - val_loss: 7.0183e-04 - val_accuracy: 0.9998\n",
      "Epoch 46/50\n",
      "391/391 [==============================] - 17s 43ms/step - loss: 0.0069 - accuracy: 0.9982 - val_loss: 0.0041 - val_accuracy: 0.9984\n",
      "Epoch 47/50\n",
      "391/391 [==============================] - 17s 43ms/step - loss: 0.0062 - accuracy: 0.9982 - val_loss: 0.0088 - val_accuracy: 0.9975\n",
      "Epoch 48/50\n",
      "391/391 [==============================] - 16s 41ms/step - loss: 0.0044 - accuracy: 0.9986 - val_loss: 0.0017 - val_accuracy: 0.9993\n",
      "Epoch 49/50\n",
      "391/391 [==============================] - 16s 40ms/step - loss: 0.0071 - accuracy: 0.9980 - val_loss: 0.0036 - val_accuracy: 0.9988\n",
      "Epoch 50/50\n",
      "391/391 [==============================] - 16s 41ms/step - loss: 0.0062 - accuracy: 0.9980 - val_loss: 0.0040 - val_accuracy: 0.9987\n"
     ]
    }
   ],
   "source": [
    "#<Train your model on the entire training set (50K samples)>\n",
    "history = model.fit(x_train_vec, y_train_vec, batch_size=128, epochs=50, validation_data=(x_val, y_val))"
   ]
  },
  {
   "cell_type": "markdown",
   "metadata": {},
   "source": [
    "## 5. Evaluate the model on the test set (5 points)\n",
    "\n",
    "Do NOT use the test set until now. Make sure that your model parameters and hyper-parameters are independent of the test set."
   ]
  },
  {
   "cell_type": "code",
   "execution_count": 11,
   "metadata": {
    "scrolled": true
   },
   "outputs": [
    {
     "name": "stdout",
     "output_type": "stream",
     "text": [
      "313/313 [==============================] - 2s 8ms/step - loss: 4.4156 - accuracy: 0.6509\n",
      "loss = 4.415625095367432\n",
      "accuracy = 0.6509000062942505\n"
     ]
    }
   ],
   "source": [
    "# Evaluate your model performance (testing accuracy) on testing data.\n",
    "loss_and_acc = model.evaluate(x_test_vec, y_test_vec)\n",
    "print('accuracy = ' +str(loss_and_acc[1]))"
   ]
  },
  {
   "cell_type": "markdown",
   "metadata": {},
   "source": [
    "## 6. Building model with new structure (25 points)\n",
    "- In this section, you can build your model with adding new layers (e.g, BN layer or dropout layer, ...).\n",
    "- If you want to regularize a ```Conv/Dense layer```, you should place a ```Dropout layer``` before the ```Conv/Dense layer```.\n",
    "- You can try to compare their loss curve and testing accuracy and analyze your findings.\n",
    "- You need to try at lease two different model structures."
   ]
  },
  {
   "cell_type": "code",
   "execution_count": 31,
   "metadata": {},
   "outputs": [
    {
     "name": "stdout",
     "output_type": "stream",
     "text": [
      "Model: \"sequential_5\"\n",
      "_________________________________________________________________\n",
      " Layer (type)                Output Shape              Param #   \n",
      "=================================================================\n",
      " conv2d_15 (Conv2D)          (None, 30, 30, 32)        896       \n",
      "                                                                 \n",
      " max_pooling2d_15 (MaxPoolin  (None, 15, 15, 32)       0         \n",
      " g2D)                                                            \n",
      "                                                                 \n",
      " conv2d_16 (Conv2D)          (None, 12, 12, 64)        32832     \n",
      "                                                                 \n",
      " max_pooling2d_16 (MaxPoolin  (None, 6, 6, 64)         0         \n",
      " g2D)                                                            \n",
      "                                                                 \n",
      " dropout_3 (Dropout)         (None, 6, 6, 64)          0         \n",
      "                                                                 \n",
      " conv2d_17 (Conv2D)          (None, 2, 2, 128)         204928    \n",
      "                                                                 \n",
      " max_pooling2d_17 (MaxPoolin  (None, 1, 1, 128)        0         \n",
      " g2D)                                                            \n",
      "                                                                 \n",
      " flatten_5 (Flatten)         (None, 128)               0         \n",
      "                                                                 \n",
      " dropout_4 (Dropout)         (None, 128)               0         \n",
      "                                                                 \n",
      " dense_10 (Dense)            (None, 256)               33024     \n",
      "                                                                 \n",
      " dense_11 (Dense)            (None, 10)                2570      \n",
      "                                                                 \n",
      "=================================================================\n",
      "Total params: 274,250\n",
      "Trainable params: 274,250\n",
      "Non-trainable params: 0\n",
      "_________________________________________________________________\n"
     ]
    }
   ],
   "source": [
    "#Model 2\n",
    "#Adding a third convolutional layer and a Dropout layer before it & Dense layer\n",
    "\n",
    "model = models.Sequential()\n",
    "model.add(layers.Conv2D(32, (3,3), activation='relu', input_shape=(32,32,3)))\n",
    "model.add(layers.MaxPooling2D((2,2)))\n",
    "\n",
    "model.add(layers.Conv2D(64, (4,4), activation='relu'))\n",
    "model.add(layers.MaxPooling2D((2,2)))\n",
    "\n",
    "model.add(layers.Dropout(0.2))\n",
    "model.add(layers.Conv2D(128, (5,5), activation='relu'))\n",
    "model.add(layers.MaxPooling2D((2,2)))\n",
    "\n",
    "model.add(layers.Flatten())\n",
    "model.add(layers.Dropout(0.4))\n",
    "model.add(layers.Dense(256, activation='relu'))\n",
    "model.add(layers.Dense(10, activation='softmax'))\n",
    "\n",
    "model.summary()"
   ]
  },
  {
   "cell_type": "code",
   "execution_count": 32,
   "metadata": {},
   "outputs": [],
   "source": [
    "# Define model optimizer and loss function\n",
    "from keras import optimizers\n",
    "model.compile(optimizers.RMSprop(learning_rate=0.0001), loss='categorical_crossentropy', metrics=['accuracy'])"
   ]
  },
  {
   "cell_type": "code",
   "execution_count": 33,
   "metadata": {},
   "outputs": [
    {
     "name": "stdout",
     "output_type": "stream",
     "text": [
      "Epoch 1/50\n",
      "391/391 [==============================] - 16s 39ms/step - loss: 2.8821 - accuracy: 0.1383 - val_loss: 2.0505 - val_accuracy: 0.2206\n",
      "Epoch 2/50\n",
      "391/391 [==============================] - 15s 39ms/step - loss: 1.9977 - accuracy: 0.2345 - val_loss: 1.7716 - val_accuracy: 0.3569\n",
      "Epoch 3/50\n",
      "391/391 [==============================] - 15s 38ms/step - loss: 1.8275 - accuracy: 0.3131 - val_loss: 1.6346 - val_accuracy: 0.4217\n",
      "Epoch 4/50\n",
      "391/391 [==============================] - 16s 40ms/step - loss: 1.6783 - accuracy: 0.3769 - val_loss: 1.5262 - val_accuracy: 0.4700\n",
      "Epoch 5/50\n",
      "391/391 [==============================] - 15s 38ms/step - loss: 1.5859 - accuracy: 0.4198 - val_loss: 1.4617 - val_accuracy: 0.4809\n",
      "Epoch 6/50\n",
      "391/391 [==============================] - 16s 41ms/step - loss: 1.5074 - accuracy: 0.4528 - val_loss: 1.3440 - val_accuracy: 0.5382\n",
      "Epoch 7/50\n",
      "391/391 [==============================] - 17s 44ms/step - loss: 1.4484 - accuracy: 0.4769 - val_loss: 1.2687 - val_accuracy: 0.5657\n",
      "Epoch 8/50\n",
      "391/391 [==============================] - 23s 59ms/step - loss: 1.3827 - accuracy: 0.5023 - val_loss: 1.2064 - val_accuracy: 0.5882\n",
      "Epoch 9/50\n",
      "391/391 [==============================] - 19s 48ms/step - loss: 1.3322 - accuracy: 0.5236 - val_loss: 1.1374 - val_accuracy: 0.6112\n",
      "Epoch 10/50\n",
      "391/391 [==============================] - 17s 43ms/step - loss: 1.2837 - accuracy: 0.5419 - val_loss: 1.1205 - val_accuracy: 0.6243\n",
      "Epoch 11/50\n",
      "391/391 [==============================] - 16s 40ms/step - loss: 1.2460 - accuracy: 0.5563 - val_loss: 1.0943 - val_accuracy: 0.6286\n",
      "Epoch 12/50\n",
      "391/391 [==============================] - 15s 38ms/step - loss: 1.2067 - accuracy: 0.5733 - val_loss: 1.0233 - val_accuracy: 0.6608\n",
      "Epoch 13/50\n",
      "391/391 [==============================] - 15s 37ms/step - loss: 1.1737 - accuracy: 0.5861 - val_loss: 1.0701 - val_accuracy: 0.6344\n",
      "Epoch 14/50\n",
      "391/391 [==============================] - 17s 45ms/step - loss: 1.1419 - accuracy: 0.5979 - val_loss: 0.9648 - val_accuracy: 0.6768\n",
      "Epoch 15/50\n",
      "391/391 [==============================] - 20s 51ms/step - loss: 1.1160 - accuracy: 0.6063 - val_loss: 0.9536 - val_accuracy: 0.6895\n",
      "Epoch 16/50\n",
      "391/391 [==============================] - 20s 51ms/step - loss: 1.0897 - accuracy: 0.6164 - val_loss: 0.9253 - val_accuracy: 0.6898\n",
      "Epoch 17/50\n",
      "391/391 [==============================] - 19s 48ms/step - loss: 1.0631 - accuracy: 0.6258 - val_loss: 0.8989 - val_accuracy: 0.7078\n",
      "Epoch 18/50\n",
      "391/391 [==============================] - 19s 49ms/step - loss: 1.0389 - accuracy: 0.6346 - val_loss: 0.8804 - val_accuracy: 0.7062\n",
      "Epoch 19/50\n",
      "391/391 [==============================] - 20s 51ms/step - loss: 1.0191 - accuracy: 0.6417 - val_loss: 0.8342 - val_accuracy: 0.7383\n",
      "Epoch 20/50\n",
      "391/391 [==============================] - 19s 49ms/step - loss: 0.9994 - accuracy: 0.6508 - val_loss: 0.8375 - val_accuracy: 0.7234\n",
      "Epoch 21/50\n",
      "391/391 [==============================] - 20s 50ms/step - loss: 0.9759 - accuracy: 0.6592 - val_loss: 0.8522 - val_accuracy: 0.7300\n",
      "Epoch 22/50\n",
      "391/391 [==============================] - 15s 38ms/step - loss: 0.9605 - accuracy: 0.6641 - val_loss: 0.7874 - val_accuracy: 0.7474\n",
      "Epoch 23/50\n",
      "391/391 [==============================] - 15s 38ms/step - loss: 0.9409 - accuracy: 0.6709 - val_loss: 0.7269 - val_accuracy: 0.7778\n",
      "Epoch 24/50\n",
      "391/391 [==============================] - 17s 43ms/step - loss: 0.9225 - accuracy: 0.6775 - val_loss: 0.7812 - val_accuracy: 0.7459\n",
      "Epoch 25/50\n",
      "391/391 [==============================] - 15s 39ms/step - loss: 0.9086 - accuracy: 0.6853 - val_loss: 0.7091 - val_accuracy: 0.7772\n",
      "Epoch 26/50\n",
      "391/391 [==============================] - 22s 56ms/step - loss: 0.8924 - accuracy: 0.6877 - val_loss: 0.6688 - val_accuracy: 0.7934\n",
      "Epoch 27/50\n",
      "391/391 [==============================] - 20s 50ms/step - loss: 0.8803 - accuracy: 0.6921 - val_loss: 0.6916 - val_accuracy: 0.7921\n",
      "Epoch 28/50\n",
      "391/391 [==============================] - 19s 49ms/step - loss: 0.8608 - accuracy: 0.6978 - val_loss: 0.6400 - val_accuracy: 0.8046\n",
      "Epoch 29/50\n",
      "391/391 [==============================] - 19s 49ms/step - loss: 0.8506 - accuracy: 0.7025 - val_loss: 0.6618 - val_accuracy: 0.7903\n",
      "Epoch 30/50\n",
      "391/391 [==============================] - 19s 49ms/step - loss: 0.8348 - accuracy: 0.7097 - val_loss: 0.6558 - val_accuracy: 0.7923\n",
      "Epoch 31/50\n",
      "391/391 [==============================] - 18s 46ms/step - loss: 0.8231 - accuracy: 0.7129 - val_loss: 0.6345 - val_accuracy: 0.8020\n",
      "Epoch 32/50\n",
      "391/391 [==============================] - 18s 47ms/step - loss: 0.8101 - accuracy: 0.7188 - val_loss: 0.6179 - val_accuracy: 0.8163\n",
      "Epoch 33/50\n",
      "391/391 [==============================] - 19s 48ms/step - loss: 0.8023 - accuracy: 0.7204 - val_loss: 0.6137 - val_accuracy: 0.8182\n",
      "Epoch 34/50\n",
      "391/391 [==============================] - 18s 47ms/step - loss: 0.7899 - accuracy: 0.7256 - val_loss: 0.5594 - val_accuracy: 0.8278\n",
      "Epoch 35/50\n",
      "391/391 [==============================] - 20s 52ms/step - loss: 0.7753 - accuracy: 0.7298 - val_loss: 0.5859 - val_accuracy: 0.8181\n",
      "Epoch 36/50\n",
      "391/391 [==============================] - 16s 40ms/step - loss: 0.7645 - accuracy: 0.7330 - val_loss: 0.5481 - val_accuracy: 0.8383\n",
      "Epoch 37/50\n",
      "391/391 [==============================] - 17s 45ms/step - loss: 0.7583 - accuracy: 0.7354 - val_loss: 0.5673 - val_accuracy: 0.8433\n",
      "Epoch 38/50\n",
      "391/391 [==============================] - 18s 47ms/step - loss: 0.7466 - accuracy: 0.7398 - val_loss: 0.6405 - val_accuracy: 0.8038\n",
      "Epoch 39/50\n",
      "391/391 [==============================] - 19s 48ms/step - loss: 0.7347 - accuracy: 0.7449 - val_loss: 0.5219 - val_accuracy: 0.8368\n",
      "Epoch 40/50\n",
      "391/391 [==============================] - 19s 47ms/step - loss: 0.7321 - accuracy: 0.7442 - val_loss: 0.5588 - val_accuracy: 0.8233\n",
      "Epoch 41/50\n",
      "391/391 [==============================] - 18s 47ms/step - loss: 0.7197 - accuracy: 0.7516 - val_loss: 0.5168 - val_accuracy: 0.8563\n",
      "Epoch 42/50\n",
      "391/391 [==============================] - 18s 47ms/step - loss: 0.7128 - accuracy: 0.7504 - val_loss: 0.4779 - val_accuracy: 0.8611\n",
      "Epoch 43/50\n",
      "391/391 [==============================] - 15s 38ms/step - loss: 0.7071 - accuracy: 0.7532 - val_loss: 0.4927 - val_accuracy: 0.8615\n",
      "Epoch 44/50\n",
      "391/391 [==============================] - 15s 38ms/step - loss: 0.6951 - accuracy: 0.7579 - val_loss: 0.4529 - val_accuracy: 0.8678\n",
      "Epoch 45/50\n",
      "391/391 [==============================] - 15s 39ms/step - loss: 0.6862 - accuracy: 0.7608 - val_loss: 0.4344 - val_accuracy: 0.8784\n",
      "Epoch 46/50\n",
      "391/391 [==============================] - 15s 38ms/step - loss: 0.6768 - accuracy: 0.7632 - val_loss: 0.4749 - val_accuracy: 0.8577\n",
      "Epoch 47/50\n",
      "391/391 [==============================] - 15s 40ms/step - loss: 0.6727 - accuracy: 0.7643 - val_loss: 0.4724 - val_accuracy: 0.8591\n",
      "Epoch 48/50\n",
      "391/391 [==============================] - 15s 39ms/step - loss: 0.6679 - accuracy: 0.7661 - val_loss: 0.4647 - val_accuracy: 0.8841\n",
      "Epoch 49/50\n",
      "391/391 [==============================] - 15s 38ms/step - loss: 0.6628 - accuracy: 0.7678 - val_loss: 0.4472 - val_accuracy: 0.8729\n",
      "Epoch 50/50\n",
      "391/391 [==============================] - 16s 40ms/step - loss: 0.6567 - accuracy: 0.7712 - val_loss: 0.4239 - val_accuracy: 0.8871\n"
     ]
    }
   ],
   "source": [
    "# Train the model and store model parameters/loss values\n",
    "history = model.fit(x_train_vec, y_train_vec, batch_size=128, epochs=50, validation_data=(x_val, y_val))"
   ]
  },
  {
   "cell_type": "code",
   "execution_count": 34,
   "metadata": {},
   "outputs": [
    {
     "data": {
      "image/png": "[encoded data removed]",
      "text/plain": [
       "<Figure size 432x288 with 1 Axes>"
      ]
     },
     "metadata": {
      "needs_background": "light"
     },
     "output_type": "display_data"
    }
   ],
   "source": [
    "# Plot the loss curve\n",
    "import matplotlib.pyplot as plt\n",
    "%matplotlib inline\n",
    "\n",
    "epochs = range(50)\n",
    "train_loss = history.history['loss']\n",
    "valid_loss = history.history['val_loss']\n",
    "plt.plot(epochs, train_loss, 'bo', label='Training Loss')\n",
    "plt.plot(epochs, valid_loss, 'r', label='Validation Loss')\n",
    "plt.xlabel('Epochs')\n",
    "plt.ylabel('Loss')\n",
    "plt.legend()\n",
    "plt.show()"
   ]
  },
  {
   "cell_type": "code",
   "execution_count": 35,
   "metadata": {},
   "outputs": [],
   "source": [
    "#<Compile your model again (using the same hyper-parameters you tuned above)>\n",
    "model.compile(optimizers.RMSprop(learning_rate=0.0001), loss='categorical_crossentropy', metrics=['accuracy'])"
   ]
  },
  {
   "cell_type": "code",
   "execution_count": null,
   "metadata": {},
   "outputs": [
    {
     "name": "stdout",
     "output_type": "stream",
     "text": [
      "Epoch 1/50\n",
      "391/391 [==============================] - 17s 41ms/step - loss: 0.6564 - accuracy: 0.7705 - val_loss: 0.4443 - val_accuracy: 0.8809\n",
      "Epoch 2/50\n",
      "391/391 [==============================] - 19s 49ms/step - loss: 0.6453 - accuracy: 0.7739 - val_loss: 0.4112 - val_accuracy: 0.8966\n",
      "Epoch 3/50\n",
      "391/391 [==============================] - 18s 47ms/step - loss: 0.6352 - accuracy: 0.7797 - val_loss: 0.4717 - val_accuracy: 0.8768\n",
      "Epoch 4/50\n",
      "391/391 [==============================] - 15s 39ms/step - loss: 0.6303 - accuracy: 0.7777 - val_loss: 0.3930 - val_accuracy: 0.8929\n",
      "Epoch 5/50\n",
      "391/391 [==============================] - 16s 40ms/step - loss: 0.6272 - accuracy: 0.7817 - val_loss: 0.4001 - val_accuracy: 0.8960\n",
      "Epoch 6/50\n",
      "391/391 [==============================] - 16s 40ms/step - loss: 0.6259 - accuracy: 0.7805 - val_loss: 0.4031 - val_accuracy: 0.8847\n",
      "Epoch 7/50\n",
      "391/391 [==============================] - 15s 39ms/step - loss: 0.6147 - accuracy: 0.7854 - val_loss: 0.3978 - val_accuracy: 0.8865\n",
      "Epoch 8/50\n",
      "391/391 [==============================] - 15s 39ms/step - loss: 0.6093 - accuracy: 0.7878 - val_loss: 0.3569 - val_accuracy: 0.9100\n",
      "Epoch 9/50\n",
      "391/391 [==============================] - 15s 37ms/step - loss: 0.5975 - accuracy: 0.7892 - val_loss: 0.3956 - val_accuracy: 0.8974\n",
      "Epoch 10/50\n",
      "391/391 [==============================] - 16s 40ms/step - loss: 0.6021 - accuracy: 0.7906 - val_loss: 0.3866 - val_accuracy: 0.8970\n",
      "Epoch 11/50\n",
      "391/391 [==============================] - 19s 48ms/step - loss: 0.5937 - accuracy: 0.7928 - val_loss: 0.3640 - val_accuracy: 0.8970\n",
      "Epoch 12/50\n",
      "391/391 [==============================] - 16s 41ms/step - loss: 0.5947 - accuracy: 0.7919 - val_loss: 0.3494 - val_accuracy: 0.9154\n",
      "Epoch 13/50\n",
      "391/391 [==============================] - 17s 43ms/step - loss: 0.5812 - accuracy: 0.7946 - val_loss: 0.3143 - val_accuracy: 0.9127\n",
      "Epoch 14/50\n",
      "391/391 [==============================] - 20s 50ms/step - loss: 0.5752 - accuracy: 0.8003 - val_loss: 0.3548 - val_accuracy: 0.9133\n",
      "Epoch 15/50\n",
      "391/391 [==============================] - 16s 40ms/step - loss: 0.5780 - accuracy: 0.7978 - val_loss: 0.3470 - val_accuracy: 0.9074\n",
      "Epoch 16/50\n",
      "391/391 [==============================] - 17s 43ms/step - loss: 0.5727 - accuracy: 0.8002 - val_loss: 0.3595 - val_accuracy: 0.9001\n",
      "Epoch 17/50\n",
      "391/391 [==============================] - 18s 46ms/step - loss: 0.5679 - accuracy: 0.8017 - val_loss: 0.3027 - val_accuracy: 0.9236\n",
      "Epoch 18/50\n",
      "391/391 [==============================] - 20s 50ms/step - loss: 0.5647 - accuracy: 0.8040 - val_loss: 0.3239 - val_accuracy: 0.9172\n",
      "Epoch 19/50\n",
      "391/391 [==============================] - 17s 45ms/step - loss: 0.5635 - accuracy: 0.8026 - val_loss: 0.3155 - val_accuracy: 0.9171\n",
      "Epoch 20/50\n",
      "391/391 [==============================] - 15s 38ms/step - loss: 0.5573 - accuracy: 0.8046 - val_loss: 0.3009 - val_accuracy: 0.9187\n",
      "Epoch 21/50\n",
      "391/391 [==============================] - 16s 40ms/step - loss: 0.5564 - accuracy: 0.8067 - val_loss: 0.3018 - val_accuracy: 0.9241\n",
      "Epoch 22/50\n",
      "391/391 [==============================] - 15s 38ms/step - loss: 0.5427 - accuracy: 0.8104 - val_loss: 0.3157 - val_accuracy: 0.9219\n",
      "Epoch 23/50\n",
      "391/391 [==============================] - 15s 39ms/step - loss: 0.5422 - accuracy: 0.8085 - val_loss: 0.3516 - val_accuracy: 0.9088\n",
      "Epoch 24/50\n",
      "391/391 [==============================] - 15s 38ms/step - loss: 0.5403 - accuracy: 0.8111 - val_loss: 0.2990 - val_accuracy: 0.9247\n",
      "Epoch 25/50\n",
      "391/391 [==============================] - 15s 39ms/step - loss: 0.5349 - accuracy: 0.8100 - val_loss: 0.2967 - val_accuracy: 0.9333\n",
      "Epoch 26/50\n",
      "391/391 [==============================] - 17s 44ms/step - loss: 0.5305 - accuracy: 0.8142 - val_loss: 0.3227 - val_accuracy: 0.9244\n",
      "Epoch 27/50\n",
      "391/391 [==============================] - 15s 38ms/step - loss: 0.5331 - accuracy: 0.8154 - val_loss: 0.2885 - val_accuracy: 0.9280\n",
      "Epoch 28/50\n",
      " 15/391 [>.............................] - ETA: 13s - loss: 0.4716 - accuracy: 0.8479"
     ]
    }
   ],
   "source": [
    "#<Train your model on the entire training set (50K samples)>\n",
    "history = model.fit(x_train_vec, y_train_vec, batch_size=128, epochs=50, validation_data=(x_val, y_val))"
   ]
  },
  {
   "cell_type": "code",
   "execution_count": 30,
   "metadata": {},
   "outputs": [
    {
     "name": "stdout",
     "output_type": "stream",
     "text": [
      "313/313 [==============================] - 1s 4ms/step - loss: 0.7663 - accuracy: 0.7440\n",
      "accuracy = 0.7440000176429749\n"
     ]
    }
   ],
   "source": [
    "# Evaluate your model performance (testing accuracy) on testing data.\n",
    "loss_and_acc = model.evaluate(x_test_vec, y_test_vec)\n",
    "print('accuracy = ' +str(loss_and_acc[1]))"
   ]
  },
  {
   "cell_type": "code",
   "execution_count": 24,
   "metadata": {},
   "outputs": [
    {
     "name": "stdout",
     "output_type": "stream",
     "text": [
      "Model: \"sequential_4\"\n",
      "_________________________________________________________________\n",
      " Layer (type)                Output Shape              Param #   \n",
      "=================================================================\n",
      " conv2d_12 (Conv2D)          (None, 30, 30, 32)        896       \n",
      "                                                                 \n",
      " max_pooling2d_12 (MaxPoolin  (None, 15, 15, 32)       0         \n",
      " g2D)                                                            \n",
      "                                                                 \n",
      " dropout_2 (Dropout)         (None, 15, 15, 32)        0         \n",
      "                                                                 \n",
      " conv2d_13 (Conv2D)          (None, 12, 12, 64)        32832     \n",
      "                                                                 \n",
      " max_pooling2d_13 (MaxPoolin  (None, 6, 6, 64)         0         \n",
      " g2D)                                                            \n",
      "                                                                 \n",
      " conv2d_14 (Conv2D)          (None, 4, 4, 32)          18464     \n",
      "                                                                 \n",
      " batch_normalization_5 (Batc  (None, 4, 4, 32)         128       \n",
      " hNormalization)                                                 \n",
      "                                                                 \n",
      " activation_5 (Activation)   (None, 4, 4, 32)          0         \n",
      "                                                                 \n",
      " max_pooling2d_14 (MaxPoolin  (None, 2, 2, 32)         0         \n",
      " g2D)                                                            \n",
      "                                                                 \n",
      " flatten_4 (Flatten)         (None, 128)               0         \n",
      "                                                                 \n",
      " dense_8 (Dense)             (None, 1024)              132096    \n",
      "                                                                 \n",
      " dense_9 (Dense)             (None, 10)                10250     \n",
      "                                                                 \n",
      "=================================================================\n",
      "Total params: 194,666\n",
      "Trainable params: 194,602\n",
      "Non-trainable params: 64\n",
      "_________________________________________________________________\n"
     ]
    }
   ],
   "source": [
    "#Model 3\n",
    "#Adding a dropout layer, third convolutional layer, Batch Normalization layer for third convolutional layer and different dense layer\n",
    "\n",
    "model = models.Sequential()\n",
    "model.add(layers.Conv2D(32, (3,3), activation='relu', input_shape=(32,32,3)))\n",
    "model.add(layers.MaxPooling2D((2,2)))\n",
    "\n",
    "model.add(layers.Dropout(0.2))\n",
    "model.add(layers.Conv2D(64, (4,4), activation='relu', input_shape=(32,32,3)))\n",
    "model.add(layers.MaxPooling2D((2,2)))\n",
    "\n",
    "model.add(layers.Conv2D(32, (3,3)))\n",
    "model.add(layers.BatchNormalization())\n",
    "model.add(layers.Activation('relu'))\n",
    "model.add(layers.MaxPooling2D((2,2)))\n",
    "\n",
    "model.add(layers.Flatten())\n",
    "model.add(layers.Dense(1024, activation='relu'))\n",
    "model.add(layers.Dense(10, activation='softmax'))\n",
    "\n",
    "model.summary()\n"
   ]
  },
  {
   "cell_type": "code",
   "execution_count": 25,
   "metadata": {},
   "outputs": [],
   "source": [
    "# Define model optimizer and loss function\n",
    "from keras import optimizers\n",
    "model.compile(optimizers.RMSprop(learning_rate=0.0001), loss='categorical_crossentropy', metrics=['accuracy'])"
   ]
  },
  {
   "cell_type": "code",
   "execution_count": 26,
   "metadata": {},
   "outputs": [
    {
     "name": "stdout",
     "output_type": "stream",
     "text": [
      "Epoch 1/50\n",
      "391/391 [==============================] - 16s 38ms/step - loss: 1.7642 - accuracy: 0.3568 - val_loss: 1.7532 - val_accuracy: 0.3607\n",
      "Epoch 2/50\n",
      "391/391 [==============================] - 14s 37ms/step - loss: 1.4224 - accuracy: 0.4881 - val_loss: 1.3861 - val_accuracy: 0.4919\n",
      "Epoch 3/50\n",
      "391/391 [==============================] - 15s 39ms/step - loss: 1.2973 - accuracy: 0.5371 - val_loss: 1.3378 - val_accuracy: 0.5163\n",
      "Epoch 4/50\n",
      "391/391 [==============================] - 15s 38ms/step - loss: 1.2179 - accuracy: 0.5652 - val_loss: 1.2484 - val_accuracy: 0.5484\n",
      "Epoch 5/50\n",
      "391/391 [==============================] - 15s 38ms/step - loss: 1.1592 - accuracy: 0.5881 - val_loss: 1.2478 - val_accuracy: 0.5535\n",
      "Epoch 6/50\n",
      "391/391 [==============================] - 15s 38ms/step - loss: 1.1089 - accuracy: 0.6065 - val_loss: 1.0959 - val_accuracy: 0.6090\n",
      "Epoch 7/50\n",
      "391/391 [==============================] - 15s 38ms/step - loss: 1.0712 - accuracy: 0.6220 - val_loss: 1.0950 - val_accuracy: 0.6037\n",
      "Epoch 8/50\n",
      "391/391 [==============================] - 15s 39ms/step - loss: 1.0353 - accuracy: 0.6356 - val_loss: 0.9853 - val_accuracy: 0.6485\n",
      "Epoch 9/50\n",
      "391/391 [==============================] - 17s 43ms/step - loss: 1.0039 - accuracy: 0.6470 - val_loss: 0.9478 - val_accuracy: 0.6648\n",
      "Epoch 10/50\n",
      "391/391 [==============================] - 16s 41ms/step - loss: 0.9791 - accuracy: 0.6583 - val_loss: 0.9360 - val_accuracy: 0.6678\n",
      "Epoch 11/50\n",
      "391/391 [==============================] - 15s 39ms/step - loss: 0.9507 - accuracy: 0.6670 - val_loss: 0.9542 - val_accuracy: 0.6613\n",
      "Epoch 12/50\n",
      "391/391 [==============================] - 18s 47ms/step - loss: 0.9245 - accuracy: 0.6747 - val_loss: 0.8525 - val_accuracy: 0.7013\n",
      "Epoch 13/50\n",
      "391/391 [==============================] - 17s 43ms/step - loss: 0.9088 - accuracy: 0.6812 - val_loss: 0.9301 - val_accuracy: 0.6694\n",
      "Epoch 14/50\n",
      "391/391 [==============================] - 15s 39ms/step - loss: 0.8840 - accuracy: 0.6910 - val_loss: 0.9594 - val_accuracy: 0.6601\n",
      "Epoch 15/50\n",
      "391/391 [==============================] - 15s 39ms/step - loss: 0.8683 - accuracy: 0.6964 - val_loss: 0.7953 - val_accuracy: 0.7246\n",
      "Epoch 16/50\n",
      "391/391 [==============================] - 15s 39ms/step - loss: 0.8519 - accuracy: 0.7034 - val_loss: 0.7941 - val_accuracy: 0.7228\n",
      "Epoch 17/50\n",
      "391/391 [==============================] - 16s 41ms/step - loss: 0.8304 - accuracy: 0.7094 - val_loss: 0.8298 - val_accuracy: 0.7060\n",
      "Epoch 18/50\n",
      "391/391 [==============================] - 15s 39ms/step - loss: 0.8186 - accuracy: 0.7130 - val_loss: 0.8581 - val_accuracy: 0.6957\n",
      "Epoch 19/50\n",
      "391/391 [==============================] - 16s 41ms/step - loss: 0.8015 - accuracy: 0.7191 - val_loss: 0.7282 - val_accuracy: 0.7456\n",
      "Epoch 20/50\n",
      "391/391 [==============================] - 15s 40ms/step - loss: 0.7860 - accuracy: 0.7250 - val_loss: 0.7473 - val_accuracy: 0.7365\n",
      "Epoch 21/50\n",
      "391/391 [==============================] - 17s 44ms/step - loss: 0.7726 - accuracy: 0.7286 - val_loss: 0.7243 - val_accuracy: 0.7478\n",
      "Epoch 22/50\n",
      "391/391 [==============================] - 17s 43ms/step - loss: 0.7613 - accuracy: 0.7342 - val_loss: 0.7070 - val_accuracy: 0.7542\n",
      "Epoch 23/50\n",
      "391/391 [==============================] - 18s 45ms/step - loss: 0.7508 - accuracy: 0.7374 - val_loss: 0.6956 - val_accuracy: 0.7599\n",
      "Epoch 24/50\n",
      "391/391 [==============================] - 19s 48ms/step - loss: 0.7363 - accuracy: 0.7435 - val_loss: 0.7107 - val_accuracy: 0.7515\n",
      "Epoch 25/50\n",
      "391/391 [==============================] - 16s 40ms/step - loss: 0.7247 - accuracy: 0.7475 - val_loss: 0.6479 - val_accuracy: 0.7767\n",
      "Epoch 26/50\n",
      "391/391 [==============================] - 16s 42ms/step - loss: 0.7137 - accuracy: 0.7502 - val_loss: 0.6327 - val_accuracy: 0.7842\n",
      "Epoch 27/50\n",
      "391/391 [==============================] - 19s 50ms/step - loss: 0.7017 - accuracy: 0.7535 - val_loss: 0.6613 - val_accuracy: 0.7734\n",
      "Epoch 28/50\n",
      "391/391 [==============================] - 16s 42ms/step - loss: 0.6913 - accuracy: 0.7591 - val_loss: 0.6142 - val_accuracy: 0.7872\n",
      "Epoch 29/50\n",
      "391/391 [==============================] - 17s 43ms/step - loss: 0.6780 - accuracy: 0.7628 - val_loss: 0.6303 - val_accuracy: 0.7801\n",
      "Epoch 30/50\n",
      "391/391 [==============================] - 16s 41ms/step - loss: 0.6697 - accuracy: 0.7668 - val_loss: 0.6437 - val_accuracy: 0.7741\n",
      "Epoch 31/50\n",
      "391/391 [==============================] - 17s 42ms/step - loss: 0.6620 - accuracy: 0.7686 - val_loss: 0.5971 - val_accuracy: 0.7919\n",
      "Epoch 32/50\n",
      "391/391 [==============================] - 15s 39ms/step - loss: 0.6513 - accuracy: 0.7728 - val_loss: 0.5690 - val_accuracy: 0.8108\n",
      "Epoch 33/50\n",
      "391/391 [==============================] - 16s 41ms/step - loss: 0.6439 - accuracy: 0.7761 - val_loss: 0.5647 - val_accuracy: 0.8096\n",
      "Epoch 34/50\n",
      "391/391 [==============================] - 15s 38ms/step - loss: 0.6309 - accuracy: 0.7785 - val_loss: 0.5902 - val_accuracy: 0.7936\n",
      "Epoch 35/50\n",
      "391/391 [==============================] - 15s 39ms/step - loss: 0.6253 - accuracy: 0.7822 - val_loss: 0.5759 - val_accuracy: 0.8035\n",
      "Epoch 36/50\n",
      "391/391 [==============================] - 21s 54ms/step - loss: 0.6160 - accuracy: 0.7854 - val_loss: 0.5503 - val_accuracy: 0.8130\n",
      "Epoch 37/50\n",
      "391/391 [==============================] - 17s 43ms/step - loss: 0.6049 - accuracy: 0.7890 - val_loss: 0.5474 - val_accuracy: 0.8110\n",
      "Epoch 38/50\n",
      "391/391 [==============================] - 16s 41ms/step - loss: 0.5969 - accuracy: 0.7912 - val_loss: 0.5062 - val_accuracy: 0.8306\n",
      "Epoch 39/50\n",
      "391/391 [==============================] - 17s 43ms/step - loss: 0.5919 - accuracy: 0.7936 - val_loss: 0.5415 - val_accuracy: 0.8106\n",
      "Epoch 40/50\n",
      "391/391 [==============================] - 16s 42ms/step - loss: 0.5827 - accuracy: 0.7962 - val_loss: 0.4909 - val_accuracy: 0.8374\n",
      "Epoch 41/50\n",
      "391/391 [==============================] - 18s 46ms/step - loss: 0.5737 - accuracy: 0.7978 - val_loss: 0.4979 - val_accuracy: 0.8298\n",
      "Epoch 42/50\n",
      "391/391 [==============================] - 18s 46ms/step - loss: 0.5681 - accuracy: 0.8016 - val_loss: 0.5237 - val_accuracy: 0.8185\n",
      "Epoch 43/50\n",
      "391/391 [==============================] - 16s 42ms/step - loss: 0.5582 - accuracy: 0.8053 - val_loss: 0.5046 - val_accuracy: 0.8302\n",
      "Epoch 44/50\n",
      "391/391 [==============================] - 17s 45ms/step - loss: 0.5543 - accuracy: 0.8057 - val_loss: 0.4633 - val_accuracy: 0.8447\n",
      "Epoch 45/50\n",
      "391/391 [==============================] - 23s 59ms/step - loss: 0.5449 - accuracy: 0.8097 - val_loss: 0.4732 - val_accuracy: 0.8387\n",
      "Epoch 46/50\n",
      "391/391 [==============================] - 19s 48ms/step - loss: 0.5379 - accuracy: 0.8123 - val_loss: 0.4417 - val_accuracy: 0.8546\n",
      "Epoch 47/50\n",
      "391/391 [==============================] - 17s 42ms/step - loss: 0.5300 - accuracy: 0.8150 - val_loss: 0.4396 - val_accuracy: 0.8567\n",
      "Epoch 48/50\n",
      "391/391 [==============================] - 17s 45ms/step - loss: 0.5286 - accuracy: 0.8142 - val_loss: 0.4303 - val_accuracy: 0.8600\n",
      "Epoch 49/50\n",
      "391/391 [==============================] - 18s 46ms/step - loss: 0.5189 - accuracy: 0.8195 - val_loss: 0.4318 - val_accuracy: 0.8560\n",
      "Epoch 50/50\n",
      "391/391 [==============================] - 15s 39ms/step - loss: 0.5160 - accuracy: 0.8198 - val_loss: 0.4455 - val_accuracy: 0.8518\n"
     ]
    }
   ],
   "source": [
    "# Train the model and store model parameters/loss values\n",
    "history = model.fit(x_train_vec, y_train_vec, batch_size=128, epochs=50, validation_data=(x_val, y_val))"
   ]
  },
  {
   "cell_type": "code",
   "execution_count": 27,
   "metadata": {},
   "outputs": [
    {
     "data": {
      "image/png": "[encoded data removed]",
      "text/plain": [
       "<Figure size 432x288 with 1 Axes>"
      ]
     },
     "metadata": {
      "needs_background": "light"
     },
     "output_type": "display_data"
    }
   ],
   "source": [
    "# Plot the loss curve\n",
    "import matplotlib.pyplot as plt\n",
    "%matplotlib inline\n",
    "\n",
    "epochs = range(50)\n",
    "train_loss = history.history['loss']\n",
    "valid_loss = history.history['val_loss']\n",
    "plt.plot(epochs, train_loss, 'bo', label='Training Loss')\n",
    "plt.plot(epochs, valid_loss, 'r', label='Validation Loss')\n",
    "plt.xlabel('Epochs')\n",
    "plt.ylabel('Loss')\n",
    "plt.legend()\n",
    "plt.show()"
   ]
  },
  {
   "cell_type": "code",
   "execution_count": 28,
   "metadata": {},
   "outputs": [],
   "source": [
    "#<Compile your model again (using the same hyper-parameters you tuned above)>\n",
    "model.compile(optimizers.RMSprop(learning_rate=0.0001), loss='categorical_crossentropy', metrics=['accuracy'])"
   ]
  },
  {
   "cell_type": "code",
   "execution_count": 29,
   "metadata": {
    "scrolled": true
   },
   "outputs": [
    {
     "name": "stdout",
     "output_type": "stream",
     "text": [
      "Epoch 1/50\n",
      "391/391 [==============================] - 17s 40ms/step - loss: 0.5065 - accuracy: 0.8226 - val_loss: 0.4272 - val_accuracy: 0.8570\n",
      "Epoch 2/50\n",
      "391/391 [==============================] - 15s 38ms/step - loss: 0.5015 - accuracy: 0.8248 - val_loss: 0.4398 - val_accuracy: 0.8525\n",
      "Epoch 3/50\n",
      "391/391 [==============================] - 20s 52ms/step - loss: 0.4924 - accuracy: 0.8271 - val_loss: 0.4072 - val_accuracy: 0.8644\n",
      "Epoch 4/50\n",
      "391/391 [==============================] - 32s 82ms/step - loss: 0.4881 - accuracy: 0.8297 - val_loss: 0.4169 - val_accuracy: 0.8616\n",
      "Epoch 5/50\n",
      "391/391 [==============================] - 41s 105ms/step - loss: 0.4819 - accuracy: 0.8337 - val_loss: 0.4058 - val_accuracy: 0.8617\n",
      "Epoch 6/50\n",
      "391/391 [==============================] - 34s 86ms/step - loss: 0.4804 - accuracy: 0.8322 - val_loss: 0.4326 - val_accuracy: 0.8536\n",
      "Epoch 7/50\n",
      "391/391 [==============================] - 33s 84ms/step - loss: 0.4761 - accuracy: 0.8325 - val_loss: 0.3767 - val_accuracy: 0.8748\n",
      "Epoch 8/50\n",
      "391/391 [==============================] - 30s 78ms/step - loss: 0.4650 - accuracy: 0.8377 - val_loss: 0.4142 - val_accuracy: 0.8623\n",
      "Epoch 9/50\n",
      "391/391 [==============================] - 15s 39ms/step - loss: 0.4626 - accuracy: 0.8387 - val_loss: 0.4019 - val_accuracy: 0.8647\n",
      "Epoch 10/50\n",
      "391/391 [==============================] - 20s 52ms/step - loss: 0.4554 - accuracy: 0.8411 - val_loss: 0.3778 - val_accuracy: 0.8769\n",
      "Epoch 11/50\n",
      "391/391 [==============================] - 18s 46ms/step - loss: 0.4488 - accuracy: 0.8419 - val_loss: 0.4012 - val_accuracy: 0.8656\n",
      "Epoch 12/50\n",
      "391/391 [==============================] - 17s 43ms/step - loss: 0.4445 - accuracy: 0.8442 - val_loss: 0.3563 - val_accuracy: 0.8828\n",
      "Epoch 13/50\n",
      "391/391 [==============================] - 17s 43ms/step - loss: 0.4428 - accuracy: 0.8444 - val_loss: 0.3556 - val_accuracy: 0.8835\n",
      "Epoch 14/50\n",
      "391/391 [==============================] - 17s 43ms/step - loss: 0.4371 - accuracy: 0.8468 - val_loss: 0.3420 - val_accuracy: 0.8878\n",
      "Epoch 15/50\n",
      "391/391 [==============================] - 16s 42ms/step - loss: 0.4298 - accuracy: 0.8509 - val_loss: 0.3441 - val_accuracy: 0.8896\n",
      "Epoch 16/50\n",
      "391/391 [==============================] - 17s 44ms/step - loss: 0.4243 - accuracy: 0.8510 - val_loss: 0.3369 - val_accuracy: 0.8920\n",
      "Epoch 17/50\n",
      "391/391 [==============================] - 19s 47ms/step - loss: 0.4241 - accuracy: 0.8519 - val_loss: 0.3653 - val_accuracy: 0.8761\n",
      "Epoch 18/50\n",
      "391/391 [==============================] - 19s 49ms/step - loss: 0.4177 - accuracy: 0.8544 - val_loss: 0.3434 - val_accuracy: 0.8880\n",
      "Epoch 19/50\n",
      "391/391 [==============================] - 19s 49ms/step - loss: 0.4121 - accuracy: 0.8562 - val_loss: 0.3484 - val_accuracy: 0.8836\n",
      "Epoch 20/50\n",
      "391/391 [==============================] - 19s 48ms/step - loss: 0.4094 - accuracy: 0.8569 - val_loss: 0.3211 - val_accuracy: 0.8987\n",
      "Epoch 21/50\n",
      "391/391 [==============================] - 17s 43ms/step - loss: 0.4035 - accuracy: 0.8598 - val_loss: 0.3389 - val_accuracy: 0.8874\n",
      "Epoch 22/50\n",
      "391/391 [==============================] - 20s 50ms/step - loss: 0.3982 - accuracy: 0.8609 - val_loss: 0.3138 - val_accuracy: 0.8988\n",
      "Epoch 23/50\n",
      "391/391 [==============================] - 22s 56ms/step - loss: 0.3971 - accuracy: 0.8610 - val_loss: 0.3148 - val_accuracy: 0.9001\n",
      "Epoch 24/50\n",
      "391/391 [==============================] - 22s 56ms/step - loss: 0.3823 - accuracy: 0.8681 - val_loss: 0.3100 - val_accuracy: 0.8989\n",
      "Epoch 25/50\n",
      "391/391 [==============================] - 23s 58ms/step - loss: 0.3840 - accuracy: 0.8663 - val_loss: 0.3051 - val_accuracy: 0.8999\n",
      "Epoch 26/50\n",
      "391/391 [==============================] - 16s 40ms/step - loss: 0.3812 - accuracy: 0.8661 - val_loss: 0.2997 - val_accuracy: 0.9021\n",
      "Epoch 27/50\n",
      "391/391 [==============================] - 21s 53ms/step - loss: 0.3773 - accuracy: 0.8679 - val_loss: 0.2860 - val_accuracy: 0.9102\n",
      "Epoch 28/50\n",
      "391/391 [==============================] - 17s 44ms/step - loss: 0.3748 - accuracy: 0.8680 - val_loss: 0.2824 - val_accuracy: 0.9091\n",
      "Epoch 29/50\n",
      "391/391 [==============================] - 18s 47ms/step - loss: 0.3684 - accuracy: 0.8705 - val_loss: 0.3405 - val_accuracy: 0.8787\n",
      "Epoch 30/50\n",
      "391/391 [==============================] - 18s 46ms/step - loss: 0.3641 - accuracy: 0.8730 - val_loss: 0.2703 - val_accuracy: 0.9173\n",
      "Epoch 31/50\n",
      "391/391 [==============================] - 16s 42ms/step - loss: 0.3600 - accuracy: 0.8743 - val_loss: 0.2825 - val_accuracy: 0.9090\n",
      "Epoch 32/50\n",
      "391/391 [==============================] - 20s 50ms/step - loss: 0.3568 - accuracy: 0.8766 - val_loss: 0.2958 - val_accuracy: 0.9011\n",
      "Epoch 33/50\n",
      "391/391 [==============================] - 19s 48ms/step - loss: 0.3512 - accuracy: 0.8790 - val_loss: 0.2637 - val_accuracy: 0.9176\n",
      "Epoch 34/50\n",
      "391/391 [==============================] - 17s 43ms/step - loss: 0.3501 - accuracy: 0.8782 - val_loss: 0.2745 - val_accuracy: 0.9150\n",
      "Epoch 35/50\n",
      "391/391 [==============================] - 17s 44ms/step - loss: 0.3457 - accuracy: 0.8791 - val_loss: 0.2630 - val_accuracy: 0.9167\n",
      "Epoch 36/50\n",
      "391/391 [==============================] - 15s 38ms/step - loss: 0.3438 - accuracy: 0.8807 - val_loss: 0.2504 - val_accuracy: 0.9228\n",
      "Epoch 37/50\n",
      "391/391 [==============================] - 15s 40ms/step - loss: 0.3368 - accuracy: 0.8824 - val_loss: 0.2555 - val_accuracy: 0.9208\n",
      "Epoch 38/50\n",
      "391/391 [==============================] - 15s 39ms/step - loss: 0.3313 - accuracy: 0.8855 - val_loss: 0.2288 - val_accuracy: 0.9334\n",
      "Epoch 39/50\n",
      "391/391 [==============================] - 17s 44ms/step - loss: 0.3292 - accuracy: 0.8854 - val_loss: 0.2515 - val_accuracy: 0.9206\n",
      "Epoch 40/50\n",
      "391/391 [==============================] - 20s 50ms/step - loss: 0.3303 - accuracy: 0.8853 - val_loss: 0.2433 - val_accuracy: 0.9251\n",
      "Epoch 41/50\n",
      "391/391 [==============================] - 19s 49ms/step - loss: 0.3224 - accuracy: 0.8880 - val_loss: 0.2273 - val_accuracy: 0.9341\n",
      "Epoch 42/50\n",
      "391/391 [==============================] - 21s 54ms/step - loss: 0.3188 - accuracy: 0.8884 - val_loss: 0.2623 - val_accuracy: 0.9154\n",
      "Epoch 43/50\n",
      "391/391 [==============================] - 17s 43ms/step - loss: 0.3167 - accuracy: 0.8887 - val_loss: 0.2553 - val_accuracy: 0.9141\n",
      "Epoch 44/50\n",
      "391/391 [==============================] - 15s 39ms/step - loss: 0.3139 - accuracy: 0.8915 - val_loss: 0.2194 - val_accuracy: 0.9370\n",
      "Epoch 45/50\n",
      "391/391 [==============================] - 16s 40ms/step - loss: 0.3094 - accuracy: 0.8932 - val_loss: 0.2264 - val_accuracy: 0.9345\n",
      "Epoch 46/50\n",
      "391/391 [==============================] - 15s 39ms/step - loss: 0.3095 - accuracy: 0.8920 - val_loss: 0.2130 - val_accuracy: 0.9346\n",
      "Epoch 47/50\n",
      "391/391 [==============================] - 15s 38ms/step - loss: 0.3033 - accuracy: 0.8929 - val_loss: 0.2339 - val_accuracy: 0.9243\n",
      "Epoch 48/50\n",
      "391/391 [==============================] - 16s 40ms/step - loss: 0.2991 - accuracy: 0.8962 - val_loss: 0.2198 - val_accuracy: 0.9332\n",
      "Epoch 49/50\n",
      "391/391 [==============================] - 15s 39ms/step - loss: 0.2967 - accuracy: 0.8965 - val_loss: 0.2162 - val_accuracy: 0.9325\n",
      "Epoch 50/50\n",
      "391/391 [==============================] - 15s 39ms/step - loss: 0.2928 - accuracy: 0.8985 - val_loss: 0.2191 - val_accuracy: 0.9309\n"
     ]
    }
   ],
   "source": [
    "#<Train your model on the entire training set (50K samples)>\n",
    "history = model.fit(x_train_vec, y_train_vec, batch_size=128, epochs=50, validation_data=(x_val, y_val))"
   ]
  },
  {
   "cell_type": "code",
   "execution_count": 30,
   "metadata": {},
   "outputs": [
    {
     "name": "stdout",
     "output_type": "stream",
     "text": [
      "313/313 [==============================] - 1s 4ms/step - loss: 0.8194 - accuracy: 0.7554\n",
      "accuracy = 0.7554000020027161\n"
     ]
    }
   ],
   "source": [
    "# Evaluate your model performance (testing accuracy) on testing data.\n",
    "loss_and_acc = model.evaluate(x_test_vec, y_test_vec)\n",
    "print('accuracy = ' +str(loss_and_acc[1]))"
   ]
  },
  {
   "cell_type": "code",
   "execution_count": null,
   "metadata": {},
   "outputs": [],
   "source": []
  }
 ],
 "metadata": {
  "kernelspec": {
   "display_name": "Python 3 (ipykernel)",
   "language": "python",
   "name": "python3"
  },
  "language_info": {
   "codemirror_mode": {
    "name": "ipython",
    "version": 3
   },
   "file_extension": ".py",
   "mimetype": "text/x-python",
   "name": "python",
   "nbconvert_exporter": "python",
   "pygments_lexer": "ipython3",
   "version": "3.9.12"
  }
 },
 "nbformat": 4,
 "nbformat_minor": 2
}
